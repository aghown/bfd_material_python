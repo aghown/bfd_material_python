{
 "cells": [
  {
   "cell_type": "markdown",
   "id": "2bfcb0bc",
   "metadata": {},
   "source": [
    "# Usando PostgreSQL no python\n",
    "\n",
    "Para usar esse SGBD é preciso ter o postgreSQL instalado e configurado na máquina, além de precisar instalar o pacote psycopg2 com o pip"
   ]
  },
  {
   "cell_type": "code",
   "execution_count": null,
   "id": "9dd71f0d",
   "metadata": {},
   "outputs": [],
   "source": [
    "# importando o driver do postgreeSQL\n",
    "import psycopg2\n",
    "\n",
    "# inicia a conexao com o banco de dados.\n",
    "db_connection = psycopg2.connect(\n",
    "    host=\"\",\n",
    "    user=\"\",\n",
    "    password=\"\",\n",
    "    dbname=\"\"\n",
    ")\n",
    "\n",
    "# cria o cursor\n",
    "cursor = db_connection.cursor()\n",
    "\n",
    "# executa qualquer comando SQL\n",
    "cursor.execute(\"\"\"\n",
    "SELECT * \n",
    "FROM Aluno\n",
    "\"\"\")\n",
    "\n",
    "# Salva o resultado da query na variável\n",
    "query_result = cursor.fetchall()\n",
    "\n",
    "# Imprime o resultado da query\n",
    "print(query_result)\n",
    "\n",
    "# Encerra a conexao com o banco de dados\n",
    "db_connection.close()\n"
   ]
  }
 ],
 "metadata": {
  "kernelspec": {
   "display_name": ".venv",
   "language": "python",
   "name": "python3"
  },
  "language_info": {
   "codemirror_mode": {
    "name": "ipython",
    "version": 3
   },
   "file_extension": ".py",
   "mimetype": "text/x-python",
   "name": "python",
   "nbconvert_exporter": "python",
   "pygments_lexer": "ipython3",
   "version": "3.13.7"
  }
 },
 "nbformat": 4,
 "nbformat_minor": 5
}
