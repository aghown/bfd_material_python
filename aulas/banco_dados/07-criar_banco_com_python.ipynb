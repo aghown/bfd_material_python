{
 "cells": [
  {
   "cell_type": "markdown",
   "id": "6f62b683",
   "metadata": {},
   "source": [
    "# Usando Python e SQL para criar bancos de dados"
   ]
  },
  {
   "cell_type": "markdown",
   "id": "df29d89b",
   "metadata": {},
   "source": [
    "Para criar um banco de dados com python basta ter o driver/biblioteca específica para o SGBD que pretende usar e criar a estrutura com comandos SQL."
   ]
  },
  {
   "cell_type": "markdown",
   "id": "4d5c0602",
   "metadata": {},
   "source": [
    "## SQLite"
   ]
  },
  {
   "cell_type": "markdown",
   "id": "130ead01",
   "metadata": {},
   "source": [
    "No SQLite, por não ter \"burocracias\" no ato da conexão, se usar um nome de banco que não exista no diretória ele cria o banco automaticamente."
   ]
  },
  {
   "cell_type": "code",
   "execution_count": 22,
   "id": "e01aab2c",
   "metadata": {},
   "outputs": [],
   "source": [
    "import sqlite3\n",
    "from pathlib import Path\n",
    "\n",
    "# Diretório do arquivo atual\n",
    "#BASE_DIR = Path(__file__).resolve().parent\n",
    "# Caminho completo do banco\n",
    "#DB_PATH = BASE_DIR / \"db\" / \"escola_v2.db\"\n",
    "\n",
    "db_connection = sqlite3.connect(\"db/loja2.db\")\n"
   ]
  },
  {
   "cell_type": "markdown",
   "id": "84316cf9",
   "metadata": {},
   "source": [
    "Banco criado, agora criamos o cursor para usarmos comandos SQL:"
   ]
  },
  {
   "cell_type": "code",
   "execution_count": 23,
   "id": "500dcdc6",
   "metadata": {},
   "outputs": [],
   "source": [
    "# cria o cursor\n",
    "cursor = db_connection.cursor()"
   ]
  },
  {
   "cell_type": "markdown",
   "id": "3abe7ce1",
   "metadata": {},
   "source": [
    "Agora podemos usar SQL para criar nossas tabelas:"
   ]
  },
  {
   "cell_type": "code",
   "execution_count": 24,
   "id": "7a02bf14",
   "metadata": {},
   "outputs": [
    {
     "name": "stdout",
     "output_type": "stream",
     "text": [
      "(None, 'Fred', 'Aquela rua', 81955555555)\n",
      "(None, 'Fred', 'Aquela rua', 81955555555)\n"
     ]
    }
   ],
   "source": [
    "cursor.execute(\"SELECT * FROM clientes\")\n",
    "for linha in cursor:\n",
    "    print(linha)"
   ]
  },
  {
   "cell_type": "code",
   "execution_count": 25,
   "id": "b537be29",
   "metadata": {},
   "outputs": [
    {
     "ename": "OperationalError",
     "evalue": "table clientes already exists",
     "output_type": "error",
     "traceback": [
      "\u001b[31m---------------------------------------------------------------------------\u001b[39m",
      "\u001b[31mOperationalError\u001b[39m                          Traceback (most recent call last)",
      "\u001b[36mCell\u001b[39m\u001b[36m \u001b[39m\u001b[32mIn[25]\u001b[39m\u001b[32m, line 1\u001b[39m\n\u001b[32m----> \u001b[39m\u001b[32m1\u001b[39m \u001b[43mcursor\u001b[49m\u001b[43m.\u001b[49m\u001b[43mexecute\u001b[49m\u001b[43m(\u001b[49m\u001b[33;43m\"\"\"\u001b[39;49m\u001b[33;43mCREATE TABLE clientes (\u001b[39;49m\n\u001b[32m      2\u001b[39m \u001b[33;43m               id INT AUTO_INCREMENT PRIMARY KEY,\u001b[39;49m\n\u001b[32m      3\u001b[39m \u001b[33;43m               nome VARCHAR(255) NOT NULL, \u001b[39;49m\n\u001b[32m      4\u001b[39m \u001b[33;43m               endereco VARCHAR(255) NOT NULL, \u001b[39;49m\n\u001b[32m      5\u001b[39m \u001b[33;43m               telefone INT(11) NOT NULL\u001b[39;49m\n\u001b[32m      6\u001b[39m \u001b[33;43m               )\u001b[39;49m\u001b[33;43m\"\"\"\u001b[39;49m\u001b[43m)\u001b[49m\n",
      "\u001b[31mOperationalError\u001b[39m: table clientes already exists"
     ]
    }
   ],
   "source": [
    "cursor.execute(\"\"\"CREATE TABLE clientes (\n",
    "               id INT AUTO_INCREMENT PRIMARY KEY,\n",
    "               nome VARCHAR(255) NOT NULL, \n",
    "               endereco VARCHAR(255) NOT NULL, \n",
    "               telefone INT(11) NOT NULL\n",
    "               )\"\"\")\n"
   ]
  },
  {
   "cell_type": "markdown",
   "id": "48c24023",
   "metadata": {},
   "source": [
    "## Alimentando a tabela com dados:"
   ]
  },
  {
   "cell_type": "code",
   "execution_count": 29,
   "id": "2b598c05",
   "metadata": {},
   "outputs": [
    {
     "ename": "ProgrammingError",
     "evalue": "Incorrect number of bindings supplied. The current statement uses 3, and there are 2 supplied.",
     "output_type": "error",
     "traceback": [
      "\u001b[31m---------------------------------------------------------------------------\u001b[39m",
      "\u001b[31mProgrammingError\u001b[39m                          Traceback (most recent call last)",
      "\u001b[36mCell\u001b[39m\u001b[36m \u001b[39m\u001b[32mIn[29]\u001b[39m\u001b[32m, line 3\u001b[39m\n\u001b[32m      1\u001b[39m sql = \u001b[33m\"\u001b[39m\u001b[33mINSERT INTO clientes (nome, endereco, telefone) VALUES (?, ?, ?)\u001b[39m\u001b[33m\"\u001b[39m\n\u001b[32m      2\u001b[39m val = [(\u001b[33m\"\u001b[39m\u001b[33mFred\u001b[39m\u001b[33m\"\u001b[39m, \u001b[33m\"\u001b[39m\u001b[33mAquela rua\u001b[39m\u001b[33m\"\u001b[39m, \u001b[32m81955555555\u001b[39m), (\u001b[33m\"\u001b[39m\u001b[33mmaria\u001b[39m\u001b[33m\"\u001b[39m,\u001b[33m\"\u001b[39m\u001b[33mRua 2\u001b[39m\u001b[33m\"\u001b[39m,\u001b[32m12345678901\u001b[39m)]\n\u001b[32m----> \u001b[39m\u001b[32m3\u001b[39m \u001b[43mcursor\u001b[49m\u001b[43m.\u001b[49m\u001b[43mexecute\u001b[49m\u001b[43m(\u001b[49m\u001b[43msql\u001b[49m\u001b[43m,\u001b[49m\u001b[43m \u001b[49m\u001b[43mval\u001b[49m\u001b[43m)\u001b[49m\n\u001b[32m      5\u001b[39m \u001b[38;5;66;03m#cursor.execute(\"INSERT INTO clientes (nome, endereco, telefone) VALUES (\"Fred\", \"Aquela rua\", 81955555555)\")\u001b[39;00m\n\u001b[32m      7\u001b[39m db_connection.commit()\n",
      "\u001b[31mProgrammingError\u001b[39m: Incorrect number of bindings supplied. The current statement uses 3, and there are 2 supplied."
     ]
    }
   ],
   "source": [
    "sql = \"INSERT INTO clientes (nome, endereco, telefone) VALUES (?, ?, ?)\"\n",
    "val = [(\"Fred\", \"Aquela rua\", 81955555555), (\"maria\",\"Rua 2\",12345678901)]\n",
    "cursor.execute(sql, val)\n",
    "\n",
    "#cursor.execute(\"INSERT INTO clientes (nome, endereco, telefone) VALUES (\"Fred\", \"Aquela rua\", 81955555555)\")\n",
    "\n",
    "db_connection.commit()"
   ]
  },
  {
   "cell_type": "code",
   "execution_count": 16,
   "id": "d20eb22e",
   "metadata": {},
   "outputs": [
    {
     "data": {
      "text/plain": [
       "[(None, 'Fred', 'Aquela rua', 81955555555),\n",
       " (None, 'Fred', 'Aquela rua', 81955555555)]"
      ]
     },
     "execution_count": 16,
     "metadata": {},
     "output_type": "execute_result"
    }
   ],
   "source": [
    "cursor.execute(\"SELECT * FROM clientes\")\n",
    "\n",
    "cursor.fetchall()"
   ]
  }
 ],
 "metadata": {
  "kernelspec": {
   "display_name": "Python 3",
   "language": "python",
   "name": "python3"
  },
  "language_info": {
   "codemirror_mode": {
    "name": "ipython",
    "version": 3
   },
   "file_extension": ".py",
   "mimetype": "text/x-python",
   "name": "python",
   "nbconvert_exporter": "python",
   "pygments_lexer": "ipython3",
   "version": "3.13.6"
  }
 },
 "nbformat": 4,
 "nbformat_minor": 5
}
