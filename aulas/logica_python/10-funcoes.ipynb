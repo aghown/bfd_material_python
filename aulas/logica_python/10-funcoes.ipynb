{
 "cells": [
  {
   "cell_type": "markdown",
   "id": "52e6de6a",
   "metadata": {},
   "source": [
    "# Funções\n",
    "\n",
    "É um bloco de código que só é executado quando chamado. Ele ajuda a evitar repetição de código e permite modularizar o projeto.\n",
    "Você ja usou funções antes mesmo de saber que eram uma função. O `print()`, por exemplo, é uma função do python que imprime dados na tela."
   ]
  },
  {
   "cell_type": "markdown",
   "id": "d0795815",
   "metadata": {},
   "source": [
    "## Como criar uma função\n",
    "Até agora só \"chamamos\" as funções, agora vamos ver como criar nossas próprias funções:\n",
    "\n",
    "Sintaxe de uma função:"
   ]
  },
  {
   "cell_type": "code",
   "execution_count": null,
   "id": "05b49f9b",
   "metadata": {},
   "outputs": [],
   "source": [
    "def nome_função():\n",
    "    código"
   ]
  },
  {
   "cell_type": "markdown",
   "id": "c5830203",
   "metadata": {},
   "source": [
    "Exemplo:"
   ]
  },
  {
   "cell_type": "code",
   "execution_count": null,
   "id": "0dbcdda0",
   "metadata": {},
   "outputs": [],
   "source": [
    "def saudacao():\n",
    "    print(\"Ola! Tudo bem?\")"
   ]
  },
  {
   "cell_type": "markdown",
   "id": "1c30a2aa",
   "metadata": {},
   "source": [
    "## Chamando uma função\n",
    "\n",
    "Para chamar uma função, basta fazer como no print, ou seja, usamos o nome da função seguido por ():"
   ]
  },
  {
   "cell_type": "code",
   "execution_count": null,
   "id": "f103c232",
   "metadata": {},
   "outputs": [],
   "source": [
    "\n",
    "def saudacao():\n",
    "    print(\"Ola! Tudo bem?\")\n",
    "\n",
    "saudacao()\n",
    "saudacao()"
   ]
  },
  {
   "cell_type": "markdown",
   "id": "344216c1",
   "metadata": {},
   "source": [
    "## return\n",
    "A forma para obtermos dados de uma função é a partir do uso do `return`. Quanto queremos que um dado gerado na função possa ser usado fora dela, usamos o return seguido do dado em questão:"
   ]
  },
  {
   "cell_type": "code",
   "execution_count": null,
   "id": "26ab6221",
   "metadata": {},
   "outputs": [],
   "source": [
    "def saudacao():\n",
    "    return \"Ola! Tudo bem?\"\n",
    "\n",
    "\n",
    "print(saudacao())\n",
    "\n",
    "msg_saudacao = saudacao()\n",
    "print(msg_saudacao)"
   ]
  },
  {
   "cell_type": "markdown",
   "id": "56406f41",
   "metadata": {},
   "source": [
    "## Funções com argumentos/parâmetros\n",
    "Até então, criamos funções que não recebe nenhum tipo de dado, isso pode ser modificado passando esses dados como argumentos/parâmetros da função. Fazemos isso passando os argumentos/parâmetros dentro dos (). É possível usar quantos argumentos/parâmetros forem necessários, bastando separa-los por virgula. "
   ]
  },
  {
   "cell_type": "code",
   "execution_count": null,
   "id": "3cb7e125",
   "metadata": {},
   "outputs": [],
   "source": [
    "def soma(num1, num2):\n",
    "    return num1+num2\n",
    "def multiplicacao(num1, num2):\n",
    "    return num1*num2\n",
    "\n",
    "\n",
    "operacao = multiplicacao(soma(2,3), soma(5,8))\n",
    "print(operacao)"
   ]
  },
  {
   "cell_type": "code",
   "execution_count": null,
   "id": "f5ee6c9e",
   "metadata": {},
   "outputs": [],
   "source": [
    "def calculadora(num1, num2):\n",
    "    #soma = num1+num2\n",
    "\n",
    "    return num1, num2, num1+num2\n",
    "\n",
    "print(type(calculadora(2,4)))\n",
    "print(calculadora(2,4))\n",
    "\n",
    "resultado = calculadora(2,4)\n",
    "print(f\"A soma de {resultado[0]} + {resultado[1]} é igual a {resultado[2]}\")"
   ]
  },
  {
   "cell_type": "markdown",
   "id": "aac8892c",
   "metadata": {},
   "source": [
    "Caso não saiba quantos argumentos serão usados, podemos usar *args como argumentos/parâmetros. Args é uma convenção, na realidade podemos usar qualquer nome, o importante é o uso do * junto do nome."
   ]
  },
  {
   "cell_type": "code",
   "execution_count": null,
   "id": "f61685ed",
   "metadata": {},
   "outputs": [],
   "source": [
    "def soma(*nuns):\n",
    "    resultado=0\n",
    "    for numero in nuns:\n",
    "        resultado+=numero\n",
    "    return resultado\n",
    "\n",
    "soma(2,3,5,2,7)"
   ]
  },
  {
   "cell_type": "markdown",
   "id": "c79b6615",
   "metadata": {},
   "source": [
    "## Valores padrão\n",
    "Podemos definir valores padrão para os argumentos/parâmetros:"
   ]
  },
  {
   "cell_type": "code",
   "execution_count": null,
   "id": "4d4ceff5",
   "metadata": {},
   "outputs": [],
   "source": [
    "def saudacao(nome = \"João\", sobrenome = \"Silva\"):\n",
    "    return f\"Ola,{nome} {sobrenome}! Tudo bem?\"\n",
    "\n",
    "print(saudacao(sobrenome=\"Favaro\"))\n"
   ]
  },
  {
   "cell_type": "markdown",
   "id": "1bc4435a",
   "metadata": {},
   "source": [
    "## *args e **kwargs\n",
    "Existem situações onde não podemos definir quantos argumentos serão passados. Nesses casos usamos *args e **kwargs. \n",
    "A principal diferença entre os dois, é que o **kwargs funciona com dicionários ou estruturas chave valor. \n",
    "Obs: Os nomes em sí são recomendações PIP, mas na prática podem ser qualquer coisa, o importante aqui é o asterisco."
   ]
  },
  {
   "cell_type": "code",
   "execution_count": null,
   "id": "83fdf386",
   "metadata": {},
   "outputs": [],
   "source": [
    "# funcao soma\n",
    "\n",
    "def soma(*numeros):\n",
    "    print(numeros)\n",
    "    resultado = 0\n",
    "    for num in numeros:\n",
    "        resultado += num\n",
    "    return resultado\n",
    "\n",
    "print(soma(3,4,5,6,7,1,3))\n"
   ]
  },
  {
   "cell_type": "code",
   "execution_count": null,
   "id": "549e2080",
   "metadata": {},
   "outputs": [],
   "source": [
    "def usuario(**kwargs):\n",
    "    print(kwargs)\n",
    "    for chave, valor in kwargs.items():\n",
    "        print(f\"{chave.capitalize()}: {valor}\")\n",
    "\n",
    "usuario(nome=\"Ana\", idade=25, cidade=\"Recife\", profissao=\"Engenheira\")"
   ]
  },
  {
   "cell_type": "markdown",
   "id": "8b491672",
   "metadata": {},
   "source": [
    "## Funções em arquivos separados\n",
    "Uma forma de estruturar melhor o projeto e separando ele em pedaços menores, ou seja, separando o código em arquivos e diretórios.\n",
    "\n",
    "### Arquivos separados mas no mesmo diretório\n",
    "\n",
    "Criando o arquivo `operacoes.py` irá conter as definições das funções:"
   ]
  },
  {
   "cell_type": "code",
   "execution_count": null,
   "id": "dc420999",
   "metadata": {},
   "outputs": [],
   "source": [
    "# operacoes.py\n",
    "def soma(num1, num2):\n",
    "    return num1+ num2\n",
    "\n",
    "def sub(num1, num2):\n",
    "    return num1-num2"
   ]
  },
  {
   "cell_type": "markdown",
   "id": "c06e2286",
   "metadata": {},
   "source": [
    "Criando o arquivo que irá usar a função:"
   ]
  },
  {
   "cell_type": "code",
   "execution_count": null,
   "id": "33e3889d",
   "metadata": {},
   "outputs": [],
   "source": [
    "# main.py\n",
    "import operacoes\n",
    "\n",
    "resultado = operacoes.soma(5,3)\n",
    "print(resultado)"
   ]
  },
  {
   "cell_type": "code",
   "execution_count": null,
   "id": "10b21fed",
   "metadata": {},
   "outputs": [],
   "source": [
    "# main.py\n",
    "from operacoes import soma, sub\n",
    "\n",
    "resultado = soma(5,3)\n",
    "print(resultado)"
   ]
  },
  {
   "cell_type": "markdown",
   "id": "84b3926f",
   "metadata": {},
   "source": [
    "É possível importar apenas a função que deseja, ao invés de importar todas:"
   ]
  },
  {
   "cell_type": "code",
   "execution_count": null,
   "id": "9d3c5f6f",
   "metadata": {},
   "outputs": [],
   "source": [
    "# main.py\n",
    "from operacoes import sub, soma\n",
    "\n",
    "resultado = sub(5,3)\n",
    "resultado2 = soma(5,3)\n",
    "print(resultado)"
   ]
  },
  {
   "cell_type": "markdown",
   "id": "ad220de5",
   "metadata": {},
   "source": [
    "### Arquivos separados e em diretórios diferentes:\n",
    "Nesse caso, vamos criar um diretório `utils` que irá receber os arquivos contendo as definições das funções e o arquivo\n",
    "`__init__.py`, que é o responsável por indicar ao python que `utils` é um pacote. Nesse caso, teremos uma estrutura de arquivos assim:\n",
    "```\n",
    "projeto/\n",
    "|-- main.py\n",
    "|-- utils/\n",
    "    |-- __init__.py\n",
    "    |-- operacoes.py\n",
    "```\n",
    "\n",
    "estruturando o projeto assim, basta importar a função da seguinte forma:"
   ]
  },
  {
   "cell_type": "code",
   "execution_count": null,
   "id": "429bd931",
   "metadata": {},
   "outputs": [],
   "source": [
    "import utils.operacoes \n",
    "\n",
    "print(utils.operacoes.sub(5,3))"
   ]
  },
  {
   "cell_type": "code",
   "execution_count": null,
   "id": "a7a8f13b",
   "metadata": {},
   "outputs": [],
   "source": [
    "import utils.operacoes as operacoes\n",
    "\n",
    "print(operacoes.sub(5,3))"
   ]
  },
  {
   "cell_type": "code",
   "execution_count": null,
   "id": "2020d11e",
   "metadata": {},
   "outputs": [],
   "source": [
    "from utils.operacoes import sub\n",
    "\n",
    "print(sub(5,3))"
   ]
  }
 ],
 "metadata": {
  "kernelspec": {
   "display_name": "Python 3",
   "language": "python",
   "name": "python3"
  },
  "language_info": {
   "codemirror_mode": {
    "name": "ipython",
    "version": 3
   },
   "file_extension": ".py",
   "mimetype": "text/x-python",
   "name": "python",
   "nbconvert_exporter": "python",
   "pygments_lexer": "ipython3",
   "version": "3.13.6"
  }
 },
 "nbformat": 4,
 "nbformat_minor": 5
}
