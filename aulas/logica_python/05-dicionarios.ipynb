{
 "cells": [
  {
   "cell_type": "markdown",
   "id": "03e04b98",
   "metadata": {},
   "source": [
    "## Dicionários\n",
    "São coleções que recebem valores no formato chave:valor. \n",
    "São ordenados, alterável e não aceita valores de chaves duplicados.\n",
    "\n",
    "No Python, os dicionários são definidos pelo uso de chaves com itens no formato chave:valor {chave:valor}. Seus itens são separados por virgula."
   ]
  },
  {
   "cell_type": "code",
   "execution_count": 1,
   "id": "109ceb0b",
   "metadata": {},
   "outputs": [
    {
     "name": "stdout",
     "output_type": "stream",
     "text": [
      "<class 'dict'>\n",
      "{}\n"
     ]
    }
   ],
   "source": [
    "# Criando um dicionário\n",
    "dicionario_vazio = {}\n",
    "print(type(dicionario_vazio))\n",
    "print(dicionario_vazio)"
   ]
  },
  {
   "cell_type": "code",
   "execution_count": 2,
   "id": "034f56eb",
   "metadata": {},
   "outputs": [
    {
     "name": "stdout",
     "output_type": "stream",
     "text": [
      "{'nome': 'Fred', 'Idade': 36, 'Nacionalidade': 'Brasileiro', 'Rico': False}\n"
     ]
    }
   ],
   "source": [
    "dicionario = {\n",
    "    \"nome\": \"Fred\",\n",
    "    \"Idade\": 36,\n",
    "    \"Nacionalidade\": \"Brasileiro\",\n",
    "    \"Rico\":False,\n",
    "}\n",
    "\n",
    "print(dicionario)"
   ]
  },
  {
   "cell_type": "markdown",
   "id": "c11456be",
   "metadata": {},
   "source": [
    "### Acessando ítens"
   ]
  },
  {
   "cell_type": "code",
   "execution_count": 20,
   "id": "45d6f156",
   "metadata": {},
   "outputs": [
    {
     "name": "stdout",
     "output_type": "stream",
     "text": [
      "Anaconda 3\n"
     ]
    }
   ],
   "source": [
    "dicionario = {\n",
    "    \"id\": 0,\n",
    "    \"nome\": \"Fred\",\n",
    "    \"Idade\": 36,\n",
    "    \"Nacionalidade\": \"Brasileiro\",\n",
    "    \"Rico\":False,\n",
    "    \"Filmes favoritos\": [\"Sharknado\", \"Anaconda 3\", \"A balada do pistoleiro\"],\n",
    "}\n",
    "\n",
    "print(dicionario[\"Filmes favoritos\"][1])"
   ]
  },
  {
   "cell_type": "markdown",
   "id": "9aec17d6",
   "metadata": {},
   "source": [
    "#### Usando o método get"
   ]
  },
  {
   "cell_type": "code",
   "execution_count": 8,
   "id": "ce660c39",
   "metadata": {},
   "outputs": [
    {
     "name": "stdout",
     "output_type": "stream",
     "text": [
      "Fred\n"
     ]
    }
   ],
   "source": [
    "print(dicionario.get(\"nome\"))"
   ]
  },
  {
   "cell_type": "markdown",
   "id": "6dc7d1a7",
   "metadata": {},
   "source": [
    "### Listando todos os ítens"
   ]
  },
  {
   "cell_type": "code",
   "execution_count": 10,
   "id": "bb6cd41a",
   "metadata": {},
   "outputs": [
    {
     "name": "stdout",
     "output_type": "stream",
     "text": [
      "dict_items([('id', 0), ('nome', 'Fred'), ('Idade', 36), ('Nacionalidade', 'Brasileiro'), ('Rico', False), ('Filmes favoritos', ['Sharknado', 'Anaconda 3', 'A balada do pistoleiro'])])\n"
     ]
    }
   ],
   "source": [
    "print(dicionario.items())"
   ]
  },
  {
   "cell_type": "markdown",
   "id": "619a2614",
   "metadata": {},
   "source": [
    "### Listando todas as chaves"
   ]
  },
  {
   "cell_type": "code",
   "execution_count": null,
   "id": "12b3352a",
   "metadata": {},
   "outputs": [
    {
     "name": "stdout",
     "output_type": "stream",
     "text": [
      "dict_keys(['nome', 'Idade', 'Nacionalidade', 'Rico'])\n"
     ]
    }
   ],
   "source": [
    "print(dicionario.keys())"
   ]
  },
  {
   "cell_type": "markdown",
   "id": "30c9aa42",
   "metadata": {},
   "source": [
    "### Listando Valores"
   ]
  },
  {
   "cell_type": "code",
   "execution_count": 11,
   "id": "2d806bad",
   "metadata": {},
   "outputs": [
    {
     "name": "stdout",
     "output_type": "stream",
     "text": [
      "dict_values([0, 'Fred', 36, 'Brasileiro', False, ['Sharknado', 'Anaconda 3', 'A balada do pistoleiro']])\n"
     ]
    }
   ],
   "source": [
    "print(dicionario.values())"
   ]
  },
  {
   "cell_type": "markdown",
   "id": "7cd0dbd9",
   "metadata": {},
   "source": [
    "### Adicionando ítens"
   ]
  },
  {
   "cell_type": "code",
   "execution_count": null,
   "id": "ea179299",
   "metadata": {},
   "outputs": [
    {
     "name": "stdout",
     "output_type": "stream",
     "text": [
      "{'id': 0, 'nome': 'Fred', 'Idade': 36, 'Nacionalidade': 'Brasileiro', 'Rico': False, 'Filmes favoritos': ['Sharknado', 'Zumbis vs robos', 'A balada do pistoleiro'], 'profissão': 'Desenvolvedor'}\n"
     ]
    }
   ],
   "source": [
    "dicionario[\"profissão\"] = \"Desenvolvedor\"\n",
    "dicionario[\"Filmes favoritos\"][1] = \"Zumbis vs robos\"\n",
    "\n",
    "print(dicionario)"
   ]
  },
  {
   "cell_type": "markdown",
   "id": "f8f5b652",
   "metadata": {},
   "source": [
    "### Adicionando e modificando ítens"
   ]
  },
  {
   "cell_type": "code",
   "execution_count": null,
   "id": "3f7a75fe",
   "metadata": {},
   "outputs": [
    {
     "name": "stdout",
     "output_type": "stream",
     "text": [
      "{'nome': 'João', 'Idade': 30, 'Nacionalidade': 'Brasileiro', 'Rico': False, 'profissão': 'Desenvolvedor'}\n"
     ]
    }
   ],
   "source": [
    "dicionario[\"nome\"] = \"João\"\n",
    "\n",
    "print(dicionario)"
   ]
  },
  {
   "cell_type": "code",
   "execution_count": 13,
   "id": "f613f287",
   "metadata": {},
   "outputs": [
    {
     "name": "stdout",
     "output_type": "stream",
     "text": [
      "{'id': 0, 'nome': 'Fred', 'Idade': 25, 'Nacionalidade': 'Brasileiro', 'Rico': False, 'Filmes favoritos': ['Sharknado', 'Zumbis vs robos', 'A balada do pistoleiro'], 'profissão': 'Desenvolvedor'}\n"
     ]
    }
   ],
   "source": [
    "dicionario.update({\"Idade\":25})\n",
    "print(dicionario)"
   ]
  },
  {
   "cell_type": "code",
   "execution_count": 15,
   "id": "1f7bec25",
   "metadata": {},
   "outputs": [
    {
     "name": "stdout",
     "output_type": "stream",
     "text": [
      "{'id': 0, 'nome': 'Fred', 'Idade': 25, 'Nacionalidade': 'Brasileiro', 'Rico': False, 'Filmes favoritos': ['Sharknado', 'Zumbis vs robos', 'A balada do pistoleiro'], 'profissão': 'Desenvolvedor', 'Carro': True}\n"
     ]
    }
   ],
   "source": [
    "dicionario.update({\"Carro\": True})\n",
    "print(dicionario)"
   ]
  },
  {
   "cell_type": "markdown",
   "id": "46423370",
   "metadata": {},
   "source": [
    "### Removendo ítens"
   ]
  },
  {
   "cell_type": "code",
   "execution_count": 21,
   "id": "c4fea05c",
   "metadata": {},
   "outputs": [
    {
     "name": "stdout",
     "output_type": "stream",
     "text": [
      "{'id': 0, 'nome': 'Fred', 'Nacionalidade': 'Brasileiro', 'Rico': False, 'Filmes favoritos': ['Sharknado', 'Anaconda 3', 'A balada do pistoleiro']}\n"
     ]
    }
   ],
   "source": [
    "dicionario.pop(\"Idade\")\n",
    "print(dicionario)"
   ]
  },
  {
   "cell_type": "code",
   "execution_count": 22,
   "id": "41e2e5f0",
   "metadata": {},
   "outputs": [
    {
     "name": "stdout",
     "output_type": "stream",
     "text": [
      "{'id': 0, 'nome': 'Fred', 'Nacionalidade': 'Brasileiro', 'Rico': False}\n"
     ]
    }
   ],
   "source": [
    "dicionario.popitem()\n",
    "print(dicionario)"
   ]
  },
  {
   "cell_type": "code",
   "execution_count": null,
   "id": "7e10912e",
   "metadata": {},
   "outputs": [
    {
     "name": "stdout",
     "output_type": "stream",
     "text": [
      "{}\n"
     ]
    }
   ],
   "source": [
    "dicionario.clear()\n",
    "print(dicionario)"
   ]
  },
  {
   "cell_type": "code",
   "execution_count": 23,
   "id": "aa1b62aa",
   "metadata": {},
   "outputs": [
    {
     "name": "stdout",
     "output_type": "stream",
     "text": [
      "{'nome': 'Fred', 'Idade': 30, 'Nacionalidade': 'Brasileiro'}\n"
     ]
    }
   ],
   "source": [
    "dicionario = {\n",
    "    \"nome\": \"Fred\",\n",
    "    \"Idade\": 30,\n",
    "    \"Nacionalidade\": \"Brasileiro\",\n",
    "    \"Rico\":False\n",
    "}\n",
    "\n",
    "del dicionario[\"Rico\"]\n",
    "print(dicionario)"
   ]
  },
  {
   "cell_type": "code",
   "execution_count": 24,
   "id": "ff65e194",
   "metadata": {},
   "outputs": [
    {
     "ename": "NameError",
     "evalue": "name 'dicionario' is not defined",
     "output_type": "error",
     "traceback": [
      "\u001b[31m---------------------------------------------------------------------------\u001b[39m",
      "\u001b[31mNameError\u001b[39m                                 Traceback (most recent call last)",
      "\u001b[36mCell\u001b[39m\u001b[36m \u001b[39m\u001b[32mIn[24]\u001b[39m\u001b[32m, line 2\u001b[39m\n\u001b[32m      1\u001b[39m \u001b[38;5;28;01mdel\u001b[39;00m dicionario\n\u001b[32m----> \u001b[39m\u001b[32m2\u001b[39m \u001b[38;5;28mprint\u001b[39m(\u001b[43mdicionario\u001b[49m)\n",
      "\u001b[31mNameError\u001b[39m: name 'dicionario' is not defined"
     ]
    }
   ],
   "source": [
    "del dicionario\n",
    "print(dicionario)"
   ]
  },
  {
   "cell_type": "markdown",
   "id": "0f6d76db",
   "metadata": {},
   "source": [
    "### Copiando um dicionário"
   ]
  },
  {
   "cell_type": "code",
   "execution_count": 25,
   "id": "c6e90169",
   "metadata": {},
   "outputs": [
    {
     "name": "stdout",
     "output_type": "stream",
     "text": [
      "Id de dicionario:  1863054332352\n",
      "Id de dicionario2: 1863054524352\n"
     ]
    }
   ],
   "source": [
    "dicionario = {\n",
    "    \"nome\": \"Fred\",\n",
    "    \"Idade\": 30,\n",
    "    \"Nacionalidade\": \"Brasileiro\",\n",
    "    \"Rico\":False\n",
    "}\n",
    "\n",
    "dicionario2 = dicionario.copy()\n",
    "\n",
    "print(f\"Id de dicionario:  {id(dicionario)}\\nId de dicionario2: {id(dicionario2)}\")"
   ]
  },
  {
   "cell_type": "code",
   "execution_count": 26,
   "id": "57781b53",
   "metadata": {},
   "outputs": [
    {
     "name": "stdout",
     "output_type": "stream",
     "text": [
      "Id de dicionario:  1863054332352\n",
      "Id de dicionario3: 1863054780480\n"
     ]
    }
   ],
   "source": [
    "dicionario3 = dict(dicionario)\n",
    "print(f\"Id de dicionario:  {id(dicionario)}\\nId de dicionario3: {id(dicionario3)}\")"
   ]
  },
  {
   "cell_type": "markdown",
   "id": "f87fe2e9",
   "metadata": {},
   "source": [
    "### Iterando por um dicionário"
   ]
  },
  {
   "cell_type": "code",
   "execution_count": 29,
   "id": "09c643ec",
   "metadata": {},
   "outputs": [
    {
     "name": "stdout",
     "output_type": "stream",
     "text": [
      "Usuário localizado\n"
     ]
    }
   ],
   "source": [
    "for itens in dicionario.values():\n",
    "    if itens == \"Fred\":\n",
    "        print(\"Usuário localizado\")"
   ]
  },
  {
   "cell_type": "code",
   "execution_count": 40,
   "id": "6d6f9c6b",
   "metadata": {},
   "outputs": [
    {
     "name": "stdout",
     "output_type": "stream",
     "text": [
      "dict_keys(['nome', 'idade'])\n"
     ]
    }
   ],
   "source": [
    "nomes_funcionarios =[\"Fred\", \"João\", \"Maria\"]\n",
    "dicionario_aleatorio = {\n",
    "    \"nomes\":nomes_funcionarios,\n",
    "    \"função\":[\"Desenvolvedor\", \"Tech Lead\", \"PO\"],\n",
    "    \"clientes\":{\"nome\":\"fulano\",\n",
    "                \"idade\":44\n",
    "\n",
    "    }\n",
    "}\n",
    "\n",
    "#print(dicionario_aleatorio[\"função\"][2])\n",
    "print(dicionario_aleatorio[\"clientes\"].keys())"
   ]
  }
 ],
 "metadata": {
  "kernelspec": {
   "display_name": "Python 3",
   "language": "python",
   "name": "python3"
  },
  "language_info": {
   "codemirror_mode": {
    "name": "ipython",
    "version": 3
   },
   "file_extension": ".py",
   "mimetype": "text/x-python",
   "name": "python",
   "nbconvert_exporter": "python",
   "pygments_lexer": "ipython3",
   "version": "3.13.6"
  }
 },
 "nbformat": 4,
 "nbformat_minor": 5
}
