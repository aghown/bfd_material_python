{
 "cells": [
  {
   "cell_type": "markdown",
   "id": "74051bd2",
   "metadata": {},
   "source": [
    "# POO - Associação\n",
    "\n",
    "- Tipo de relação entre classes.\n",
    "- Relação Fraca.\n",
    "- Um objeto usa o outro."
   ]
  },
  {
   "cell_type": "code",
   "execution_count": 3,
   "id": "33a33d66",
   "metadata": {},
   "outputs": [
    {
     "name": "stdout",
     "output_type": "stream",
     "text": [
      "O aluno João, esta anotando a atividade usando Caneta Pentel preta\n",
      "O aluno João, esta anotando a atividade usando Caneta Pentel vermelha\n"
     ]
    }
   ],
   "source": [
    "class Ferramenta:\n",
    "    def __init__(self, nome: str, marca: str, cor: str):\n",
    "        self.nome = nome\n",
    "        self.marca = marca\n",
    "        self.cor = cor\n",
    "\n",
    "class Aluno:\n",
    "    def __init__(self, nome: str, idade: int):\n",
    "        self.nome = nome\n",
    "        self.idade = idade\n",
    "    \n",
    "    def anotar_atividade(self, ferramenta: Ferramenta):\n",
    "        print(f\"O aluno {self.nome}, esta anotando a atividade usando {ferramenta.nome} {ferramenta.marca} {ferramenta.cor}\")\n",
    "\n",
    "\n",
    "\n",
    "aluno1 = Aluno(\"João\", 20)\n",
    "caneta1 = Ferramenta(\"Caneta\", \"Pentel\", \"preta\")\n",
    "caneta2 = Ferramenta(\"Caneta\", \"Pentel\", \"vermelha\")\n",
    "\n",
    "aluno1.anotar_atividade(caneta1)\n",
    "aluno1.anotar_atividade(caneta2)"
   ]
  },
  {
   "cell_type": "markdown",
   "id": "6615cd05",
   "metadata": {},
   "source": [
    "## Note:\n",
    "- Aluno usa a caneta, mas a caneta não faz parte do aluno.\n",
    "- A relação é \"temporária\": só existe ao usar a função anotar_atividade\n",
    "- Remover um objeto existente não afeta o outro"
   ]
  },
  {
   "cell_type": "code",
   "execution_count": 4,
   "id": "c27ee07e",
   "metadata": {},
   "outputs": [
    {
     "name": "stdout",
     "output_type": "stream",
     "text": [
      "João\n"
     ]
    }
   ],
   "source": [
    "del caneta1\n",
    "\n",
    "print(aluno1.nome)\n"
   ]
  }
 ],
 "metadata": {
  "kernelspec": {
   "display_name": "Python 3",
   "language": "python",
   "name": "python3"
  },
  "language_info": {
   "codemirror_mode": {
    "name": "ipython",
    "version": 3
   },
   "file_extension": ".py",
   "mimetype": "text/x-python",
   "name": "python",
   "nbconvert_exporter": "python",
   "pygments_lexer": "ipython3",
   "version": "3.13.6"
  }
 },
 "nbformat": 4,
 "nbformat_minor": 5
}
